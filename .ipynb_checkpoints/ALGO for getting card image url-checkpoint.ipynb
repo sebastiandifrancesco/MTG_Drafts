{
 "cells": [
  {
   "cell_type": "code",
   "execution_count": 4,
   "metadata": {},
   "outputs": [
    {
     "name": "stdout",
     "output_type": "stream",
     "text": [
      "https://c1.scryfall.com/file/scryfall-cards/large/front/b/f/bf1ef8ec-d915-41f2-b087-3d6d82e3db85.jpg?1591319833\n"
     ]
    }
   ],
   "source": [
    "import requests  \n",
    "from bs4 import BeautifulSoup\n",
    "import pandas as pd\n",
    "import selenium\n",
    "from selenium import webdriver\n",
    "from selenium.webdriver.common.keys import Keys\n",
    "import requests\n",
    "import pymongo\n",
    "\n",
    "def getdata(url):  \n",
    "    r = requests.get(url)  \n",
    "    return r.text\n",
    "\n",
    "url = 'https://scryfall.com/card/c20/73/akroma-angel-of-wrath'\n",
    "htmldata = getdata(url)  \n",
    "soup = BeautifulSoup(htmldata, 'html.parser')\n",
    "\n",
    "# Retrieve card info\n",
    "results = soup.find_all('div', class_='card-profile')\n",
    "for result in results:\n",
    "    for item in soup.find_all('img'): \n",
    "        image_url = item['src']\n",
    "print(image_url)"
   ]
  },
  {
   "cell_type": "code",
   "execution_count": null,
   "metadata": {},
   "outputs": [],
   "source": []
  }
 ],
 "metadata": {
  "kernelspec": {
   "display_name": "Python 3",
   "language": "python",
   "name": "python3"
  },
  "language_info": {
   "codemirror_mode": {
    "name": "ipython",
    "version": 3
   },
   "file_extension": ".py",
   "mimetype": "text/x-python",
   "name": "python",
   "nbconvert_exporter": "python",
   "pygments_lexer": "ipython3",
   "version": "3.7.6"
  }
 },
 "nbformat": 4,
 "nbformat_minor": 4
}
